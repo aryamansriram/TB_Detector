{
 "cells": [
  {
   "cell_type": "code",
   "execution_count": 1,
   "metadata": {},
   "outputs": [],
   "source": [
    "import pandas as pd\n",
    "import numpy as np\n",
    "import matplotlib.pyplot as plt\n",
    "import seaborn as sns"
   ]
  },
  {
   "cell_type": "code",
   "execution_count": 2,
   "metadata": {},
   "outputs": [],
   "source": [
    "data = pd.read_csv(\"data.csv\")"
   ]
  },
  {
   "cell_type": "code",
   "execution_count": 28,
   "metadata": {},
   "outputs": [
    {
     "data": {
      "text/plain": [
       "138"
      ]
     },
     "execution_count": 28,
     "metadata": {},
     "output_type": "execute_result"
    }
   ],
   "source": [
    "data.head()\n",
    "len(data)"
   ]
  },
  {
   "cell_type": "code",
   "execution_count": 4,
   "metadata": {},
   "outputs": [
    {
     "data": {
      "text/html": [
       "<div>\n",
       "<table border=\"1\" class=\"dataframe\">\n",
       "  <thead>\n",
       "    <tr style=\"text-align: right;\">\n",
       "      <th></th>\n",
       "      <th>Unnamed: 0</th>\n",
       "      <th>Patient's Age</th>\n",
       "      <th>Patient's Sex</th>\n",
       "      <th>condition</th>\n",
       "    </tr>\n",
       "  </thead>\n",
       "  <tbody>\n",
       "    <tr>\n",
       "      <th>1</th>\n",
       "      <td>1</td>\n",
       "      <td>17</td>\n",
       "      <td>F</td>\n",
       "      <td>normal</td>\n",
       "    </tr>\n",
       "    <tr>\n",
       "      <th>3</th>\n",
       "      <td>3</td>\n",
       "      <td>39</td>\n",
       "      <td>F</td>\n",
       "      <td>normal</td>\n",
       "    </tr>\n",
       "    <tr>\n",
       "      <th>5</th>\n",
       "      <td>5</td>\n",
       "      <td>44</td>\n",
       "      <td>M</td>\n",
       "      <td>normal</td>\n",
       "    </tr>\n",
       "    <tr>\n",
       "      <th>6</th>\n",
       "      <td>6</td>\n",
       "      <td>47</td>\n",
       "      <td>F</td>\n",
       "      <td>normal</td>\n",
       "    </tr>\n",
       "    <tr>\n",
       "      <th>8</th>\n",
       "      <td>8</td>\n",
       "      <td>52</td>\n",
       "      <td>M</td>\n",
       "      <td>normal</td>\n",
       "    </tr>\n",
       "  </tbody>\n",
       "</table>\n",
       "</div>"
      ],
      "text/plain": [
       "   Unnamed: 0  Patient's Age Patient's Sex condition\n",
       "1           1             17            F     normal\n",
       "3           3             39            F     normal\n",
       "5           5             44            M     normal\n",
       "6           6             47            F     normal\n",
       "8           8             52            M     normal"
      ]
     },
     "execution_count": 4,
     "metadata": {},
     "output_type": "execute_result"
    }
   ],
   "source": [
    "##Checking patients with normal condition##\n",
    "\n",
    "data_normal = data[data[\"condition\"]==\"normal\"]\n",
    "data_normal.head()"
   ]
  },
  {
   "cell_type": "code",
   "execution_count": 5,
   "metadata": {},
   "outputs": [
    {
     "data": {
      "text/plain": [
       "<matplotlib.axes._subplots.AxesSubplot at 0x7f380ca1ed30>"
      ]
     },
     "execution_count": 5,
     "metadata": {},
     "output_type": "execute_result"
    },
    {
     "data": {
      "image/png": "[encoded data removed]",
      "text/plain": [
       "<Figure size 432x288 with 1 Axes>"
      ]
     },
     "metadata": {
      "needs_background": "light"
     },
     "output_type": "display_data"
    }
   ],
   "source": [
    "##Checking frequency distribution of age for normal condition patients##\n",
    "sns.distplot(data_normal[\"Patient's Age\"])"
   ]
  },
  {
   "cell_type": "code",
   "execution_count": 6,
   "metadata": {},
   "outputs": [
    {
     "name": "stderr",
     "output_type": "stream",
     "text": [
      "/home/rosguy/.local/lib/python3.5/site-packages/ipykernel_launcher.py:3: SettingWithCopyWarning: \n",
      "A value is trying to be set on a copy of a slice from a DataFrame.\n",
      "Try using .loc[row_indexer,col_indexer] = value instead\n",
      "\n",
      "See the caveats in the documentation: http://pandas.pydata.org/pandas-docs/stable/indexing.html#indexing-view-versus-copy\n",
      "  This is separate from the ipykernel package so we can avoid doing imports until\n"
     ]
    }
   ],
   "source": [
    "from sklearn.preprocessing import LabelEncoder\n",
    "le = LabelEncoder()\n",
    "data_normal[\"Patient's Sex\"]  = le.fit_transform(data_normal[\"Patient's Sex\"])"
   ]
  },
  {
   "cell_type": "code",
   "execution_count": 7,
   "metadata": {},
   "outputs": [
    {
     "data": {
      "text/html": [
       "<div>\n",
       "<table border=\"1\" class=\"dataframe\">\n",
       "  <thead>\n",
       "    <tr style=\"text-align: right;\">\n",
       "      <th></th>\n",
       "      <th>Unnamed: 0</th>\n",
       "      <th>Patient's Age</th>\n",
       "      <th>Patient's Sex</th>\n",
       "      <th>condition</th>\n",
       "    </tr>\n",
       "  </thead>\n",
       "  <tbody>\n",
       "    <tr>\n",
       "      <th>1</th>\n",
       "      <td>1</td>\n",
       "      <td>17</td>\n",
       "      <td>0</td>\n",
       "      <td>normal</td>\n",
       "    </tr>\n",
       "    <tr>\n",
       "      <th>3</th>\n",
       "      <td>3</td>\n",
       "      <td>39</td>\n",
       "      <td>0</td>\n",
       "      <td>normal</td>\n",
       "    </tr>\n",
       "    <tr>\n",
       "      <th>5</th>\n",
       "      <td>5</td>\n",
       "      <td>44</td>\n",
       "      <td>1</td>\n",
       "      <td>normal</td>\n",
       "    </tr>\n",
       "    <tr>\n",
       "      <th>6</th>\n",
       "      <td>6</td>\n",
       "      <td>47</td>\n",
       "      <td>0</td>\n",
       "      <td>normal</td>\n",
       "    </tr>\n",
       "    <tr>\n",
       "      <th>8</th>\n",
       "      <td>8</td>\n",
       "      <td>52</td>\n",
       "      <td>1</td>\n",
       "      <td>normal</td>\n",
       "    </tr>\n",
       "  </tbody>\n",
       "</table>\n",
       "</div>"
      ],
      "text/plain": [
       "   Unnamed: 0  Patient's Age  Patient's Sex condition\n",
       "1           1             17              0    normal\n",
       "3           3             39              0    normal\n",
       "5           5             44              1    normal\n",
       "6           6             47              0    normal\n",
       "8           8             52              1    normal"
      ]
     },
     "execution_count": 7,
     "metadata": {},
     "output_type": "execute_result"
    }
   ],
   "source": [
    "data_normal.head()"
   ]
  },
  {
   "cell_type": "code",
   "execution_count": 8,
   "metadata": {},
   "outputs": [
    {
     "data": {
      "text/plain": [
       "<matplotlib.axes._subplots.AxesSubplot at 0x7f3807365ba8>"
      ]
     },
     "execution_count": 8,
     "metadata": {},
     "output_type": "execute_result"
    },
    {
     "data": {
      "image/png": "[encoded data removed]",
      "text/plain": [
       "<Figure size 432x288 with 1 Axes>"
      ]
     },
     "metadata": {
      "needs_background": "light"
     },
     "output_type": "display_data"
    }
   ],
   "source": [
    "sns.distplot(data_normal[\"Patient's Sex\"])"
   ]
  },
  {
   "cell_type": "code",
   "execution_count": 29,
   "metadata": {},
   "outputs": [
    {
     "name": "stdout",
     "output_type": "stream",
     "text": [
      "General:  inactive scars unchanged for 6M\n",
      "General:  normal\n",
      "General:  improvements. LUL cavity has closed.\n",
      "General:  normal\n",
      "General:  small LUL calcified granuloma; pt on rx for culture positive psoas abscess with abdominal lymphadenopathy since 6M\n",
      "General:  normal\n",
      "General:  normal\n",
      "General:  RUL infiltrate consistent with TB\n",
      "General:  normal\n",
      "General:  inactive appearing RUL TB scars\n",
      "General:  large right pleural effusion, positive TST, TB pleural effusion likely\n",
      "General:  normal\n",
      "General:  normal\n",
      "Active:  improving infiltrate, active TB\n",
      "Active:  bilateral miliary nodules diffusely with RML infiltrate and right pleural effusion; an old calcified granuloma is present behind heart in the LLL; all findings consistent with active TB\n",
      "General:  normal\n",
      "General:  normal\n",
      "General:  has inactive appearing scars in LUL; h/o treatment in hospital 17Y ago for 6M in xxx. No comparison films. Recommend followup CXR in 6M. Findings consistent with inactive treated disease.\n",
      "General:  normal\n",
      "General:  normal\n",
      "General:  normal\n",
      "General:  Rt apical scarring. LUL scars and some infiltrates as well; findings consistent with TB; ?active\n",
      "Active:  improved LUL infiltrate and cavity. Active TB on therapy.\n",
      "General:  normal\n",
      "General:  persistent rt pleural peel with some interval improvement with focal atelectasis in rt lung; anterior wedging of T5, T6 with loss of intervertebral disc space. Findings consistent with h/o spinal TB and pleural TB. Currently on Rx.\n",
      "General:  extensive cavitary TB smear and culture positive involving LUL lungula and some areas in rt lung as well; pt had previously normal CXR (1Y ago) but positive TST and contact with active case\n",
      "General:  stable CXR since 6M; off Rx since 6M (same pt as MCUCXR_0113_1)\n",
      "General:  bilateral changes of cavitary TB in upper lobes, more extensive on the right; the RML appears to be involved as well.\n",
      "General:  normal\n",
      "General:  normal\n",
      "General:  normal\n",
      "General:  normal\n",
      "General:  normal\n",
      "General:  stable inactive scars in RUL; post treatment for abscillary TB\n",
      "General:  stable inactive scars in RUL; post treatment for abscillary TB\n",
      "General:  normal\n",
      "General:  normal\n",
      "General:  normal\n",
      "General:  normal\n",
      "General:  normal\n",
      "General:  normal\n",
      "General:  normal\n",
      "General:  normal\n",
      "General:  normal\n",
      "General:  active PTB with compicating CHF condition\n",
      "General:  normal\n",
      "General:  normal\n",
      "General:  normal\n",
      "General:  improving infiltrate in LUL\n",
      "Active:  extensive infiltrates bilaterally with large cavity in RUL and a moderate pleural effusion on the left. AFB smears and RNA probes pos for MTB. Active TB, cavitary.\n",
      "Active:  cavitary fibronodular infiltrate RUL. typical appearance of active TB.\n",
      "General:  inactive scars RML. has completed treatment\n",
      "General:  normal\n",
      "General:  normal\n",
      "General:  normal\n",
      "General:  h/o TB rx in xxx 44Y ago with IN PAS SM; has rt apical dense fibrosis, calcification rt lower lung and pleural angle blunting; all compared with inactive disease and h/o treatment.\n",
      "General:  positive improvement in cavities, infiltrates, and left effusion\n",
      "General:  normal\n",
      "General:  normal\n",
      "General:  on Rx for culture proven TB. has been clearing of infiltrates in te rt lung. thre is some re-accomodation of pleural fluid along lateral left chest wall.\n",
      "General:  normal\n",
      "General:  12x9mm nodule LUL, consistent with large granuloma or some other type of a solitary pulmonary nodule\n",
      "General:  improved infiltrates in both lungs; a cavity is now visible in lingula compared with 1M ago. culture positive, pan-sensitive, on HRZ(E) since 1M\n",
      "General:  normal\n",
      "General:  normal\n",
      "General:  normal\n",
      "General:  normal\n",
      "General:  normal\n",
      "General:  inactive and partly calcified scars and granulomas in RUL. pt completed 4HRZE 4HP DOT for neg culture smear (positive disease)\n",
      "General:  normal\n",
      "General:  normal\n",
      "General:  NO REPORT (same pt as MCUCXR_0162_1)\n",
      "General:  normal\n",
      "General:  inactive scars RUL\n",
      "General:  normal\n",
      "General:  normal\n",
      "General:  normal\n",
      "General:  cavitary infiltrate near left hilum consistent with TB in superior segment LLL\n",
      "General:  normal\n",
      "General:  rt pleural effusion some infoltrate likely in outer RUL\n",
      "General:  normal\n",
      "General:  normal\n",
      "General:  cavitary disease RUL with possible small loculated pneumothorax adjacent; has multiuple coarse nodules in RLL as well as lesser amounts in LLL; pt has h/o prior treatment 1Y (6Y ago); no comparison films available; relapsed disease highly likely. pt grew NTM from several specimens, not MTB. \n",
      "General:  CXR similar to prior views 1M and 2M ago with some slight improvement; on HRZ(E)x2 months, AFB smears neg now, will switch to HR only (same pt as MCUCXR_0166_1, MCUCXR_0162_1)\n",
      "Active:  active TB; cavitary infiltrarte LUL; non-consolidated;\n",
      "General:  RUL cavitary infiltrate; positive smear\n",
      "General:  normal\n",
      "General:  normal\n",
      "General:  normal\n",
      "General:  normal\n",
      "General:  normal\n",
      "Active:  left pleural effusion; best seen on lateral view; with some scar and soft infiltrates in the LUL on the PA and lordotic views; active TB on pleura and lung likely\n",
      "General:  pleural TB, on treatment\n",
      "General:  normal\n",
      "General:  worsening diffuse infiltrate bilaterally with fine nodular appearance; recent PCP treatment; recurrent PCP likely although miliary TB is also observed.\n",
      "General:  normal\n",
      "Inactive:  inactive TB scars\n",
      "General:  improving rt pleural effusion and the RUL infiltrate is less apparent\n",
      "General:  normal\n",
      "General:  normal\n",
      "General:  normal\n",
      "General:  normal\n",
      "General:  normal\n",
      "General:  normal\n",
      "General:  normal\n",
      "General:  improvements after Rx. Has pleural, pulmonary, and probably percardial TB, pan-sensitive\n",
      "Active:  RUL apical fibrotic disease with some calcifications; extensive irregular infiltrates in left lung with a large area of cavitation/ findings consistent with old inactive disease in RL and new active TB in LL. On the lordotic view, in the rt apex a large thin walled cavity is visible, making active disease in the area likely as well.\n",
      "General:  normal\n",
      "General:  normal\n",
      "General:  calcified granuloma LUL behind 4th rib anterior\n",
      "General:  LUL inactive scars and some volume loss. h/o treatment 5 years ago.\n",
      "General:  normal\n",
      "General:  normal\n",
      "General:  normal\n",
      "General:  normal\n",
      "General:  normal\n",
      "General:  LUL infiltrate, ? small areas of cavitation, IMP\n",
      "Active:  rt pleural effusion with some nodular infiltrate in rt lower lung; there are findings also of previous cardiac surgery; suspicious for active TB.\n",
      "General:  normal\n",
      "General:  normal\n",
      "General:  scoliosis to the left with some scarring in LLL and over the left apex; calcified granuloma in the rt lung. could be related to old TB.\n",
      "General:  RUL fibrocavitary disease with volume loss and tracheal deviation to right; COPD scoliosis;\n",
      "General:  large infiltrate RUL with cavitation plus infiltrate in RML. consistent with active cavitary TB\n",
      "Inactive:  inactive TB scars LUL, unchanged for 2Y, pt previously treated DOT (17Y ago) for pan-sensitive disease\n",
      "General:  normal\n",
      "Inactive:  inactive TB scars LUL\n",
      "General:  normal\n",
      "General:  normal\n",
      "General:  normal\n",
      "Active:  smear positive, active TB LUL apex\n",
      "General:  normal\n",
      "Active:  cavitary nodular infiltrate in RUL; active TB\n",
      "General:  suspicious active disease\n",
      "General:  normal\n",
      "General:  dense scarring in LUL with volume loss, lesser scarring in RUL; appears similar to old filmes from 3Y ago and 4Y ago. Treated 4Y ago for 6M for INH resistant TB\n",
      "Inactive:  bilateral calcified granulomas scars consistent with inactive TB.\n",
      "General:  normal\n",
      "General:  peripheral homogeneous infiltrate LUL; active pneumonia likely\n",
      "Total length is  138\n"
     ]
    }
   ],
   "source": [
    "ls_in = []\n",
    "ls_ac =  []\n",
    "ls_gen = []\n",
    "count = 0\n",
    "for i in data[\"condition\"]:\n",
    "    if(\"inactive TB\" in i):\n",
    "        print(\"Inactive: \",i)\n",
    "        ls_in.append(i)\n",
    "    elif(\"active TB\" in i):\n",
    "        print(\"Active: \",i)\n",
    "        ls_ac.append(i)\n",
    "    \n",
    "    elif(\"Active TB\" in i):\n",
    "        print(\"Active: \",i)\n",
    "        ls_ac.append(i)\n",
    "    \n",
    "        \n",
    "    else:\n",
    "        print(\"General: \",i)\n",
    "        ls_gen.append(i)\n",
    "    count+=1\n",
    "print(\"Total length is \",count)\n",
    "\n",
    "        \n",
    "        "
   ]
  },
  {
   "cell_type": "code",
   "execution_count": 32,
   "metadata": {},
   "outputs": [
    {
     "name": "stdout",
     "output_type": "stream",
     "text": [
      "Number of active cases is:  11\n",
      "Number of inactive cases is:  4\n",
      "Number of general non TB cases is:  123\n"
     ]
    }
   ],
   "source": [
    "print(\"Number of active cases is: \", len(ls_ac))\n",
    "print(\"Number of inactive cases is: \",len(ls_in))\n",
    "print(\"Number of general non TB cases is: \",len(ls_gen))"
   ]
  },
  {
   "cell_type": "code",
   "execution_count": 33,
   "metadata": {},
   "outputs": [
    {
     "data": {
      "text/plain": [
       "80"
      ]
     },
     "execution_count": 33,
     "metadata": {},
     "output_type": "execute_result"
    }
   ],
   "source": [
    "###Clearly due to lack of data data augmentation is required######"
   ]
  },
  {
   "cell_type": "code",
   "execution_count": null,
   "metadata": {},
   "outputs": [],
   "source": []
  }
 ],
 "metadata": {
  "kernelspec": {
   "display_name": "Python 3",
   "language": "python",
   "name": "python3"
  },
  "language_info": {
   "codemirror_mode": {
    "name": "ipython",
    "version": 3
   },
   "file_extension": ".py",
   "mimetype": "text/x-python",
   "name": "python",
   "nbconvert_exporter": "python",
   "pygments_lexer": "ipython3",
   "version": "3.5.2"
  }
 },
 "nbformat": 4,
 "nbformat_minor": 2
}
